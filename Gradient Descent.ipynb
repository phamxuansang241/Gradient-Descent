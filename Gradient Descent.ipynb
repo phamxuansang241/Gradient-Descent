{
 "cells": [
  {
   "cell_type": "code",
   "execution_count": 11,
   "metadata": {},
   "outputs": [
    {
     "name": "stdout",
     "output_type": "stream",
     "text": [
      "Number of step is: 9\n"
     ]
    },
    {
     "data": {
      "text/plain": [
       "(3.8374670385482545, 8.315585579477478)"
      ]
     },
     "execution_count": 11,
     "metadata": {},
     "output_type": "execute_result"
    }
   ],
   "source": [
    "import pandas as pd\n",
    "import math\n",
    "import numpy as np \n",
    "import matplotlib.pyplot as plt\n",
    "\n",
    "def func(x):\n",
    "    return x**2 + 10*np.sin(x)\n",
    "\n",
    "def d_func(x):\n",
    "    h = 1e-7\n",
    "    return ((func(x + h) - func(x - h))/(2 * h))\n",
    "\n",
    "def myGD(alpha, x0):\n",
    "    x = [x0]\n",
    "    ep = 1e-7\n",
    "    for it in range(100):\n",
    "        x_new = x[-1] - alpha*d_func(x[-1])\n",
    "        if abs(d_func(x_new)) < ep:\n",
    "            break\n",
    "        x.append(x_new)\n",
    "    print(\"Number of step is: {}\".format(it))\n",
    "    return (x[-1], func(x[-1]))\n",
    "\n",
    "\n",
    "\n",
    "myGD(0.1, 5)"
   ]
  }
 ],
 "metadata": {
  "kernelspec": {
   "display_name": "Python 3",
   "language": "python",
   "name": "python3"
  },
  "language_info": {
   "codemirror_mode": {
    "name": "ipython",
    "version": 3
   },
   "file_extension": ".py",
   "mimetype": "text/x-python",
   "name": "python",
   "nbconvert_exporter": "python",
   "pygments_lexer": "ipython3",
   "version": "3.8.5"
  }
 },
 "nbformat": 4,
 "nbformat_minor": 4
}
