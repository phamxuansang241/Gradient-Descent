{
 "cells": [
  {
   "cell_type": "code",
   "execution_count": 20,
   "metadata": {},
   "outputs": [
    {
     "name": "stdout",
     "output_type": "stream",
     "text": [
      "Number of step is: 305\n"
     ]
    },
    {
     "data": {
      "text/plain": [
       "(-1.3064402853066044, -7.945823375614837)"
      ]
     },
     "execution_count": 20,
     "metadata": {},
     "output_type": "execute_result"
    }
   ],
   "source": [
    "import pandas as pd\n",
    "import math\n",
    "import numpy as np \n",
    "import matplotlib.pyplot as plt\n",
    "\n",
    "def func(x):\n",
    "    return x**2 + 10*np.sin(x)\n",
    "\n",
    "def d_func(x):\n",
    "    h = 1e-7\n",
    "    return ((func(x + h) - func(x - h))/(2 * h))\n",
    "\n",
    "def GD_momentum(x0, gamma, alpha):\n",
    "    # Suppose we want to store history of theta\n",
    "    ep = 1e-7\n",
    "    \n",
    "    x = [x0]\n",
    "    v_old = np.zeros_like(x0)\n",
    "    \n",
    "    for it in range(100000):\n",
    "        v_new = gamma*v_old + alpha*d_func(x[-1])\n",
    "        x_new = x[-1] - v_new\n",
    "        if (abs(d_func(x_new)) < ep):\n",
    "            break \n",
    "        x.append(x_new)\n",
    "        v_old = v_new\n",
    "    print(\"Number of step is: {}\".format(it))\n",
    "    return (x[-1], func(x[-1]))\n",
    "            \n",
    "GD_momentum(5, 0.9, 0.1)"
   ]
  }
 ],
 "metadata": {
  "kernelspec": {
   "display_name": "Python 3",
   "language": "python",
   "name": "python3"
  },
  "language_info": {
   "codemirror_mode": {
    "name": "ipython",
    "version": 3
   },
   "file_extension": ".py",
   "mimetype": "text/x-python",
   "name": "python",
   "nbconvert_exporter": "python",
   "pygments_lexer": "ipython3",
   "version": "3.8.5"
  }
 },
 "nbformat": 4,
 "nbformat_minor": 4
}
